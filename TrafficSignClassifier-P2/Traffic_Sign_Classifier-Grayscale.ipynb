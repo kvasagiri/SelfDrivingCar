{
 "cells": [
  {
   "cell_type": "markdown",
   "metadata": {
    "deletable": true,
    "editable": true
   },
   "source": [
    "# Self-Driving Car Engineer Nanodegree\n",
    "\n",
    "## Deep Learning\n",
    "\n",
    "## Project: Build a Traffic Sign Recognition Classifier\n",
    "\n",
    "In this notebook, a template is provided for you to implement your functionality in stages, which is required to successfully complete this project. If additional code is required that cannot be included in the notebook, be sure that the Python code is successfully imported and included in your submission if necessary. \n",
    "\n",
    "> **Note**: Once you have completed all of the code implementations, you need to finalize your work by exporting the iPython Notebook as an HTML document. Before exporting the notebook to html, all of the code cells need to have been run so that reviewers can see the final implementation and output. You can then export the notebook by using the menu above and navigating to  \\n\",\n",
    "    \"**File -> Download as -> HTML (.html)**. Include the finished document along with this notebook as your submission. \n",
    "\n",
    "In addition to implementing code, there is a writeup to complete. The writeup should be completed in a separate file, which can be either a markdown file or a pdf document. There is a [write up template](https://github.com/udacity/CarND-Traffic-Sign-Classifier-Project/blob/master/writeup_template.md) that can be used to guide the writing process. Completing the code template and writeup template will cover all of the [rubric points](https://review.udacity.com/#!/rubrics/481/view) for this project.\n",
    "\n",
    "The [rubric](https://review.udacity.com/#!/rubrics/481/view) contains \"Stand Out Suggestions\" for enhancing the project beyond the minimum requirements. The stand out suggestions are optional. If you decide to pursue the \"stand out suggestions\", you can include the code in this Ipython notebook and also discuss the results in the writeup file.\n",
    "\n",
    "\n",
    ">**Note:** Code and Markdown cells can be executed using the **Shift + Enter** keyboard shortcut. In addition, Markdown cells can be edited by typically double-clicking the cell to enter edit mode."
   ]
  },
  {
   "cell_type": "markdown",
   "metadata": {
    "deletable": true,
    "editable": true
   },
   "source": [
    "---\n",
    "## Step 0: Load The Data"
   ]
  },
  {
   "cell_type": "code",
   "execution_count": 1,
   "metadata": {
    "collapsed": false,
    "deletable": true,
    "editable": true
   },
   "outputs": [],
   "source": [
    "# Load pickled data\n",
    "import pickle\n",
    "\n",
    "# TODO: Fill this in based on where you saved the training and testing data\n",
    "\n",
    "training_file = \"../../traffic-signs-data/train.p\"\n",
    "validation_file=\"../../traffic-signs-data/valid.p\"\n",
    "testing_file = \"../../traffic-signs-data/test.p\"\n",
    "\n",
    "with open(training_file, mode='rb') as f:\n",
    "    train = pickle.load(f)\n",
    "with open(validation_file, mode='rb') as f:\n",
    "    valid = pickle.load(f)\n",
    "with open(testing_file, mode='rb') as f:\n",
    "    test = pickle.load(f)\n",
    "    \n",
    "X_train, y_train = train['features'], train['labels']\n",
    "X_valid, y_valid = valid['features'], valid['labels']\n",
    "X_test, y_test = test['features'], test['labels']"
   ]
  },
  {
   "cell_type": "markdown",
   "metadata": {
    "deletable": true,
    "editable": true
   },
   "source": [
    "---\n",
    "\n",
    "## Step 1: Dataset Summary & Exploration\n",
    "\n",
    "The pickled data is a dictionary with 4 key/value pairs:\n",
    "\n",
    "- `'features'` is a 4D array containing raw pixel data of the traffic sign images, (num examples, width, height, channels).\n",
    "- `'labels'` is a 1D array containing the label/class id of the traffic sign. The file `signnames.csv` contains id -> name mappings for each id.\n",
    "- `'sizes'` is a list containing tuples, (width, height) representing the original width and height the image.\n",
    "- `'coords'` is a list containing tuples, (x1, y1, x2, y2) representing coordinates of a bounding box around the sign in the image. **THESE COORDINATES ASSUME THE ORIGINAL IMAGE. THE PICKLED DATA CONTAINS RESIZED VERSIONS (32 by 32) OF THESE IMAGES**\n",
    "\n",
    "Complete the basic data summary below. Use python, numpy and/or pandas methods to calculate the data summary rather than hard coding the results. For example, the [pandas shape method](http://pandas.pydata.org/pandas-docs/stable/generated/pandas.DataFrame.shape.html) might be useful for calculating some of the summary results. "
   ]
  },
  {
   "cell_type": "markdown",
   "metadata": {
    "deletable": true,
    "editable": true
   },
   "source": [
    "### Provide a Basic Summary of the Data Set Using Python, Numpy and/or Pandas"
   ]
  },
  {
   "cell_type": "code",
   "execution_count": 2,
   "metadata": {
    "collapsed": false,
    "deletable": true,
    "editable": true
   },
   "outputs": [
    {
     "name": "stdout",
     "output_type": "stream",
     "text": [
      "Number of training examples = 34799\n",
      "Number of Validation examples = 4410\n",
      "Number of testing examples = 12630\n",
      "Image data shape = (32, 32, 3)\n",
      "Number of classes = 43\n"
     ]
    }
   ],
   "source": [
    "### Replace each question mark with the appropriate value. \n",
    "### Use python, pandas or numpy methods rather than hard coding the results\n",
    "\n",
    "# TODO: Number of training examples\n",
    "n_train = X_train.shape[0]\n",
    "\n",
    "# TODO: Number of validation examples\n",
    "n_validation = X_valid.shape[0]\n",
    "\n",
    "# TODO: Number of testing examples.\n",
    "n_test = X_test.shape[0]\n",
    "\n",
    "# TODO: What's the shape of an traffic sign image?\n",
    "image_shape = X_train[0].shape\n",
    "\n",
    "# TODO: How many unique classes/labels there are in the dataset.\n",
    "import numpy as np\n",
    "n_classes = len(np.unique(y_train))\n",
    "\n",
    "print(\"Number of training examples =\", n_train)\n",
    "print(\"Number of Validation examples =\", n_validation)\n",
    "print(\"Number of testing examples =\", n_test)\n",
    "print(\"Image data shape =\", image_shape)\n",
    "print(\"Number of classes =\", n_classes)"
   ]
  },
  {
   "cell_type": "markdown",
   "metadata": {
    "deletable": true,
    "editable": true
   },
   "source": [
    "### Include an exploratory visualization of the dataset"
   ]
  },
  {
   "cell_type": "markdown",
   "metadata": {
    "deletable": true,
    "editable": true
   },
   "source": [
    "Visualize the German Traffic Signs Dataset using the pickled file(s). This is open ended, suggestions include: plotting traffic sign images, plotting the count of each sign, etc. \n",
    "\n",
    "The [Matplotlib](http://matplotlib.org/) [examples](http://matplotlib.org/examples/index.html) and [gallery](http://matplotlib.org/gallery.html) pages are a great resource for doing visualizations in Python.\n",
    "\n",
    "**NOTE:** It's recommended you start with something simple first. If you wish to do more, come back to it after you've completed the rest of the sections. It can be interesting to look at the distribution of classes in the training, validation and test set. Is the distribution the same? Are there more examples of some classes than others?"
   ]
  },
  {
   "cell_type": "code",
   "execution_count": 3,
   "metadata": {
    "collapsed": false,
    "deletable": true,
    "editable": true
   },
   "outputs": [
    {
     "data": {
      "text/plain": [
       "(array([  180.,  1980.,  2010.,  1260.,  1770.,  1650.,   360.,  1290.,\n",
       "         1260.,  1320.,  1800.,  1170.,  1890.,  1920.,   690.,   540.,\n",
       "          360.,   990.,  1080.,   180.,   300.,   270.,   330.,   450.,\n",
       "          240.,  1350.,   540.,   210.,   480.,   240.,   390.,   690.,\n",
       "          210.,   599.,   360.,  1080.,   330.,   180.,  1860.,   270.,\n",
       "          300.,   210.,   210.]),\n",
       " array([  0.        ,   0.97674419,   1.95348837,   2.93023256,\n",
       "          3.90697674,   4.88372093,   5.86046512,   6.8372093 ,\n",
       "          7.81395349,   8.79069767,   9.76744186,  10.74418605,\n",
       "         11.72093023,  12.69767442,  13.6744186 ,  14.65116279,\n",
       "         15.62790698,  16.60465116,  17.58139535,  18.55813953,\n",
       "         19.53488372,  20.51162791,  21.48837209,  22.46511628,\n",
       "         23.44186047,  24.41860465,  25.39534884,  26.37209302,\n",
       "         27.34883721,  28.3255814 ,  29.30232558,  30.27906977,\n",
       "         31.25581395,  32.23255814,  33.20930233,  34.18604651,\n",
       "         35.1627907 ,  36.13953488,  37.11627907,  38.09302326,\n",
       "         39.06976744,  40.04651163,  41.02325581,  42.        ]),\n",
       " <a list of 43 Patch objects>)"
      ]
     },
     "execution_count": 3,
     "metadata": {},
     "output_type": "execute_result"
    },
    {
     "data": {
      "image/png": "[encoded data removed]",
      "text/plain": [
       "<matplotlib.figure.Figure at 0x7f4131027208>"
      ]
     },
     "metadata": {},
     "output_type": "display_data"
    }
   ],
   "source": [
    "### Data exploration visualization code goes here.\n",
    "### Feel free to use as many code cells as needed.\n",
    "import matplotlib.pyplot as plt\n",
    "# Visualizations will be shown in the notebook.\n",
    "%matplotlib inline\n",
    "\n",
    "#plt.imshow(X_train[25000])\n",
    "fig = plt.figure(figsize=(15,15))\n",
    "\n",
    "x2 = fig.add_subplot(312)\n",
    "x2.set_title(\"Valid distribution\")\n",
    "x2.hist(y_valid,bins=43)\n",
    "x3 = fig.add_subplot(313)\n",
    "x3.set_title(\"Test distribution\")\n",
    "x3.hist(y_test,bins=43)\n",
    "x1 = fig.add_subplot(311)\n",
    "x1.set_title(\"Train distribution\")\n",
    "x1.hist(y_train,bins=43)"
   ]
  },
  {
   "cell_type": "code",
   "execution_count": 4,
   "metadata": {
    "collapsed": false,
    "deletable": true,
    "editable": true
   },
   "outputs": [
    {
     "data": {
      "text/plain": [
       "<matplotlib.image.AxesImage at 0x7f40fd024898>"
      ]
     },
     "execution_count": 4,
     "metadata": {},
     "output_type": "execute_result"
    },
    {
     "data": {
      "image/png": "[encoded data removed]",
      "text/plain": [
       "<matplotlib.figure.Figure at 0x7f4131025ba8>"
      ]
     },
     "metadata": {},
     "output_type": "display_data"
    }
   ],
   "source": [
    "import random\n",
    "randonIndex = random.randrange(0,y_train.shape[0])\n",
    "image = X_train[randonIndex]\n",
    "trafic_num = y_train[randonIndex]\n",
    "\n",
    "plt.imshow(image)\n",
    "\n",
    "\n"
   ]
  },
  {
   "cell_type": "code",
   "execution_count": 5,
   "metadata": {
    "collapsed": false,
    "deletable": true,
    "editable": true
   },
   "outputs": [
    {
     "data": {
      "text/plain": [
       "<matplotlib.image.AxesImage at 0x7f40fcf58da0>"
      ]
     },
     "execution_count": 5,
     "metadata": {},
     "output_type": "execute_result"
    },
    {
     "data": {
      "image/png": "[encoded data removed]",
      "text/plain": [
       "<matplotlib.figure.Figure at 0x7f40ff5da128>"
      ]
     },
     "metadata": {},
     "output_type": "display_data"
    }
   ],
   "source": [
    "import cv2\n",
    "\n",
    "def contrastImage(image):\n",
    "    img_yuv = cv2.cvtColor(image, cv2.COLOR_BGR2YUV)\n",
    "    # equalize the histogram of the Y channel\n",
    "    img_yuv[:,:,0] = cv2.equalizeHist(img_yuv[:,:,0])\n",
    "    # convert the YUV image back to RGB format\n",
    "    img_output = cv2.cvtColor(img_yuv, cv2.COLOR_YUV2BGR)\n",
    "    return img_output\n",
    "plt.imshow(contrastImage(image))"
   ]
  },
  {
   "cell_type": "code",
   "execution_count": 6,
   "metadata": {
    "collapsed": false,
    "deletable": true,
    "editable": true
   },
   "outputs": [
    {
     "data": {
      "text/plain": [
       "<matplotlib.image.AxesImage at 0x7f40fcf48828>"
      ]
     },
     "execution_count": 6,
     "metadata": {},
     "output_type": "execute_result"
    },
    {
     "data": {
      "image/png": "[encoded data removed]",
      "text/plain": [
       "<matplotlib.figure.Figure at 0x7f40fd046ef0>"
      ]
     },
     "metadata": {},
     "output_type": "display_data"
    }
   ],
   "source": [
    "def increaseBrightness(image, number):\n",
    "    hsv = cv2.cvtColor(image, cv2.COLOR_BGR2HSV) \n",
    "    hsv[:,:,2] += number\n",
    "    img_output = cv2.cvtColor(hsv, cv2.COLOR_HSV2BGR)\n",
    "    return img_output\n",
    "plt.imshow(increaseBrightness(image,50))"
   ]
  },
  {
   "cell_type": "code",
   "execution_count": 7,
   "metadata": {
    "collapsed": false,
    "deletable": true,
    "editable": true
   },
   "outputs": [
    {
     "data": {
      "text/plain": [
       "<matplotlib.image.AxesImage at 0x7f40fceabc18>"
      ]
     },
     "execution_count": 7,
     "metadata": {},
     "output_type": "execute_result"
    },
    {
     "data": {
      "image/png": "[encoded data removed]",
      "text/plain": [
       "<matplotlib.figure.Figure at 0x7f40fcee7080>"
      ]
     },
     "metadata": {},
     "output_type": "display_data"
    }
   ],
   "source": [
    "def grayScale(image):\n",
    "    return cv2.cvtColor(image, cv2.COLOR_BGR2GRAY)\n",
    "\n",
    "plt.imshow(grayScale(increaseBrightness(image,50)),cmap='Greys_r')"
   ]
  },
  {
   "cell_type": "code",
   "execution_count": 8,
   "metadata": {
    "collapsed": false,
    "deletable": true,
    "editable": true
   },
   "outputs": [
    {
     "data": {
      "text/plain": [
       "<matplotlib.image.AxesImage at 0x7f40e6067358>"
      ]
     },
     "execution_count": 8,
     "metadata": {},
     "output_type": "execute_result"
    },
    {
     "data": {
      "image/png": "[encoded data removed]",
      "text/plain": [
       "<matplotlib.figure.Figure at 0x7f40fce60eb8>"
      ]
     },
     "metadata": {},
     "output_type": "display_data"
    }
   ],
   "source": [
    "#Image processing\n",
    "import cv2\n",
    "import numpy as np\n",
    "import random\n",
    "\n",
    "randonIndex = random.randrange(0,y_train.shape[0])\n",
    "image = X_train[randonIndex]\n",
    "trafic_num = y_train[randonIndex]\n",
    "\n",
    "def rotateAngle(image,angle):\n",
    "    rotated_matrix = cv2.getRotationMatrix2D(tuple(np.array(image.shape[:2])/2), angle, 1.0)\n",
    "    return cv2.warpAffine(image, rotated_matrix, image.shape[:2],flags=cv2.INTER_LINEAR)\n",
    " \n",
    "def zoomPixels(image,pixels):\n",
    "    cropped_image = image[pixels+1 : 32 - pixels +1 ,pixels+1 : 32 - pixels +1 ,:]\n",
    "    return cv2.resize(cropped_image,(32,32),interpolation = cv2.INTER_AREA)\n",
    "\n",
    "def shiftPosition(image,position):\n",
    "    location = np.float32([[1,0,position],[0,1,position]])\n",
    "    return cv2.warpAffine(image,location,image.shape[:2])\n",
    "    \n",
    "def increaseBrightness(image, number):\n",
    "    hsv = cv2.cvtColor(image, cv2.COLOR_BGR2HSV) \n",
    "    hsv[:,:,2] += number\n",
    "    return cv2.cvtColor(hsv, cv2.COLOR_HSV2BGR)\n",
    "\n",
    "def contrastImage(image):\n",
    "    img_yuv = cv2.cvtColor(image, cv2.COLOR_BGR2YUV)\n",
    "    img_yuv[:,:,0] = cv2.equalizeHist(img_yuv[:,:,0])\n",
    "    return cv2.cvtColor(img_yuv, cv2.COLOR_YUV2BGR)\n",
    "\n",
    "def grayScale(image):\n",
    "    return cv2.cvtColor(image, cv2.COLOR_BGR2GRAY)\n",
    "\n",
    "\n",
    "fig = plt.figure(figsize=(15,15))\n",
    "x1 = fig.add_subplot(231)\n",
    "x1.set_title(\"Traffic Sign \" + str(trafic_num))\n",
    "x1.imshow(image)\n",
    "x2 = fig.add_subplot(232)\n",
    "x2.set_title(\"Rotate +15\")\n",
    "x2.imshow(rotateAngle(image,15))\n",
    "x3 = fig.add_subplot(233)\n",
    "x3.set_title(\"Rotate -15\")\n",
    "x3.imshow(rotateAngle(image,-15))\n",
    "\n",
    "x4 = fig.add_subplot(234)\n",
    "x4.set_title(\"Increase Brightness\")\n",
    "x4.imshow(increaseBrightness(image, 255))\n",
    "x5 = fig.add_subplot(235)\n",
    "x5.set_title(\"Increase Constrast\")\n",
    "x5.imshow(contrastImage(image))\n",
    "x6 = fig.add_subplot(236)\n",
    "x6.set_title(\"Zoom\")\n",
    "x6.imshow(zoomPixels(image,3))\n"
   ]
  },
  {
   "cell_type": "code",
   "execution_count": 9,
   "metadata": {
    "collapsed": false,
    "deletable": true,
    "editable": true
   },
   "outputs": [
    {
     "name": "stdout",
     "output_type": "stream",
     "text": [
      "Train Set Blank Images  137\n",
      "Validation Set Blank Images  19\n",
      "Test Set Blank Images  0\n"
     ]
    }
   ],
   "source": [
    "# Identifying Blank Images in all Data Sets\n",
    "def isBlank(image):\n",
    "    image_flatten_array = image.flatten()\n",
    "    for pixel_value in image_flatten_array:\n",
    "        if (pixel_value > 25):\n",
    "            return False\n",
    "    return True\n",
    "\n",
    "def getBlankImages(dataset,labels):\n",
    "    BlankImages = []\n",
    "    BlankLabels = []\n",
    "    numsamples = dataset.shape[0]\n",
    "    for i in range(numsamples):\n",
    "        if isBlank(dataset[i]):\n",
    "            BlankImages.append(dataset[i])\n",
    "            BlankLabels.append(labels[i])\n",
    "    return BlankImages,BlankLabels\n",
    "\n",
    "train_blankset, train_blanklabels = getBlankImages(X_train, y_train)\n",
    "test_blankset, test_blanklabels = getBlankImages(X_test, y_test)\n",
    "valid_blankset, valid_blanklabels = getBlankImages(X_valid, y_valid)\n",
    "\n",
    "print(\"Train Set Blank Images \",np.array(train_blankset).shape[0])\n",
    "print(\"Validation Set Blank Images \",np.array(valid_blankset).shape[0])\n",
    "print(\"Test Set Blank Images \",np.array(test_blankset).shape[0])"
   ]
  },
  {
   "cell_type": "code",
   "execution_count": 10,
   "metadata": {
    "collapsed": false,
    "deletable": true,
    "editable": true
   },
   "outputs": [
    {
     "data": {
      "text/plain": [
       "<matplotlib.image.AxesImage at 0x7f40e5eb5c88>"
      ]
     },
     "execution_count": 10,
     "metadata": {},
     "output_type": "execute_result"
    },
    {
     "data": {
      "image/png": "[encoded data removed]",
      "text/plain": [
       "<matplotlib.figure.Figure at 0x7f40fce60860>"
      ]
     },
     "metadata": {},
     "output_type": "display_data"
    }
   ],
   "source": [
    "#Print some Blank Images\n",
    "sampleIndex = random.randrange(0,np.array(train_blankset).shape[0])\n",
    "image = train_blankset[sampleIndex]\n",
    "label = train_blanklabels[sampleIndex]\n",
    "\n",
    "fig=plt.figure(figsize=(15,15))\n",
    "x = fig.add_subplot(212)\n",
    "x.set_title(\"Distribution of Blank Images\")\n",
    "x.hist(np.array(train_blanklabels),bins=43)\n",
    "x = fig.add_subplot(211)\n",
    "x.set_title(\"Blank Image. Traffic Sign \"+str(label))\n",
    "x.imshow(image)\n"
   ]
  },
  {
   "cell_type": "code",
   "execution_count": 11,
   "metadata": {
    "collapsed": false,
    "deletable": true,
    "editable": true
   },
   "outputs": [
    {
     "name": "stdout",
     "output_type": "stream",
     "text": [
      "Train Set without Blank Images  34662\n"
     ]
    }
   ],
   "source": [
    "#Remove Blank Images From Train Set\n",
    "\n",
    "def filterBlankImages(dataset,labels):\n",
    "    Images = []\n",
    "    Labels = []\n",
    "    numsamples = dataset.shape[0]\n",
    "    for i in range(numsamples):\n",
    "        if not isBlank(dataset[i]):\n",
    "            Images.append(dataset[i])\n",
    "            Labels.append(labels[i])\n",
    "    return Images,Labels\n",
    "\n",
    "X_train, y_train = filterBlankImages(X_train, y_train)\n",
    "X_train = np.array(X_train)\n",
    "y_train = np.array(y_train)\n",
    "\n",
    "print(\"Train Set without Blank Images \",X_train.shape[0])\n",
    "\n"
   ]
  },
  {
   "cell_type": "code",
   "execution_count": 12,
   "metadata": {
    "collapsed": false,
    "deletable": true,
    "editable": true
   },
   "outputs": [
    {
     "name": "stdout",
     "output_type": "stream",
     "text": [
      "defaultdict(<class 'int'>, {0: 180, 1: 1980, 2: 2010, 3: 1245, 4: 1758, 5: 1650, 6: 360, 7: 1273, 8: 1260, 9: 1317, 10: 1756, 11: 1170, 12: 1890, 13: 1920, 14: 690, 15: 540, 16: 360, 17: 990, 18: 1070, 19: 151, 20: 300, 21: 270, 22: 330, 23: 450, 24: 240, 25: 1350, 26: 540, 27: 210, 28: 480, 29: 240, 30: 390, 31: 683, 32: 210, 33: 599, 34: 360, 35: 1080, 36: 330, 37: 180, 38: 1860, 39: 270, 40: 300, 41: 210, 42: 210})\n"
     ]
    }
   ],
   "source": [
    "from collections import defaultdict\n",
    "\n",
    "output_classes_freq = defaultdict(int)\n",
    "for label in y_train:\n",
    "    output_classes_freq[label] += 1\n",
    "\n",
    "print(output_classes_freq)"
   ]
  },
  {
   "cell_type": "code",
   "execution_count": 13,
   "metadata": {
    "collapsed": false,
    "deletable": true,
    "editable": true
   },
   "outputs": [
    {
     "name": "stdout",
     "output_type": "stream",
     "text": [
      "(62293, 32, 32, 3) (62293,)\n"
     ]
    }
   ],
   "source": [
    "\n",
    "import random\n",
    "\n",
    "train_samples = X_train.shape[0]\n",
    "normalized_data = []\n",
    "normalized_labels = []\n",
    "for i in range(train_samples):\n",
    "    label = y_train[i]\n",
    "    image = X_train[i]\n",
    "    normalized_data.append(image)\n",
    "    normalized_labels.append(label)\n",
    "    if(output_classes_freq[label] <= 300):\n",
    "        for angle in (15,-15):\n",
    "            normalized_data.append(rotateAngle(image,angle))\n",
    "            normalized_labels.append(label)\n",
    "        for position in (2,-2):    \n",
    "            normalized_data.append(shiftPosition(image,position))\n",
    "            normalized_labels.append(label)\n",
    "    elif(output_classes_freq[label] <= 425):\n",
    "        for position in (2,-2):\n",
    "            normalized_data.append(shiftPosition(image,position))\n",
    "            normalized_labels.append(label)\n",
    "    elif(output_classes_freq[label] <= 700):\n",
    "        position = 2 if random.random() > 0.5 else -2\n",
    "        normalized_data.append(shiftPosition(image,position))\n",
    "        normalized_labels.append(label)\n",
    "    elif(output_classes_freq[label] <= 1050):\n",
    "        if random.random() > 0.35:\n",
    "            position = 2 if random.random() > 0.5 else -2\n",
    "            normalized_data.append(shiftPosition(image,position))\n",
    "            normalized_labels.append(label)\n",
    "    elif(output_classes_freq[label] <= 1500):\n",
    "        if random.random() > 0.6:\n",
    "            position = 2 if random.random() > 0.5 else -2\n",
    "            normalized_data.append(shiftPosition(image,position))\n",
    "            normalized_labels.append(label)\n",
    "    else:\n",
    "        if random.random() > 0.80:\n",
    "            position = 2 if random.random() > 0.5 else -2\n",
    "            normalized_data.append(shiftPosition(image,position))\n",
    "            normalized_labels.append(label)\n",
    "        \n",
    "        \n",
    "            \n",
    "       \n",
    "            \n",
    "   \n",
    "        \n",
    "normalized_data = np.array(normalized_data)        \n",
    "normalized_labels = np.array(normalized_labels)\n",
    "print(normalized_data.shape , normalized_labels.shape)  "
   ]
  },
  {
   "cell_type": "code",
   "execution_count": 14,
   "metadata": {
    "collapsed": false,
    "deletable": true,
    "editable": true
   },
   "outputs": [
    {
     "data": {
      "text/plain": [
       "(array([  900.,  2361.,  2395.,  1754.,  2106.,  1994.,  1080.,  1759.,\n",
       "         1778.,  1855.,  2085.,  1667.,  2294.,  2260.,  1380.,  1080.,\n",
       "         1080.,  1647.,  1493.,   755.,  1500.,  1350.,   990.,   900.,\n",
       "         1200.,  1883.,  1080.,  1050.,   960.,  1200.,  1170.,  1366.,\n",
       "         1050.,  1198.,  1080.,  1491.,   990.,   900.,  2262.,  1350.,\n",
       "         1500.,  1050.,  1050.]),\n",
       " array([  0.        ,   0.97674419,   1.95348837,   2.93023256,\n",
       "          3.90697674,   4.88372093,   5.86046512,   6.8372093 ,\n",
       "          7.81395349,   8.79069767,   9.76744186,  10.74418605,\n",
       "         11.72093023,  12.69767442,  13.6744186 ,  14.65116279,\n",
       "         15.62790698,  16.60465116,  17.58139535,  18.55813953,\n",
       "         19.53488372,  20.51162791,  21.48837209,  22.46511628,\n",
       "         23.44186047,  24.41860465,  25.39534884,  26.37209302,\n",
       "         27.34883721,  28.3255814 ,  29.30232558,  30.27906977,\n",
       "         31.25581395,  32.23255814,  33.20930233,  34.18604651,\n",
       "         35.1627907 ,  36.13953488,  37.11627907,  38.09302326,\n",
       "         39.06976744,  40.04651163,  41.02325581,  42.        ]),\n",
       " <a list of 43 Patch objects>)"
      ]
     },
     "execution_count": 14,
     "metadata": {},
     "output_type": "execute_result"
    },
    {
     "data": {
      "image/png": "[encoded data removed]",
      "text/plain": [
       "<matplotlib.figure.Figure at 0x7f40e5ed79e8>"
      ]
     },
     "metadata": {},
     "output_type": "display_data"
    }
   ],
   "source": [
    "fig=plt.figure(figsize=(15,15))\n",
    "x = fig.add_subplot(111)\n",
    "x.set_title(\"Training Data after Data Normalization\")\n",
    "x.hist(normalized_labels,bins=43)"
   ]
  },
  {
   "cell_type": "code",
   "execution_count": 15,
   "metadata": {
    "collapsed": false,
    "deletable": true,
    "editable": true
   },
   "outputs": [
    {
     "name": "stdout",
     "output_type": "stream",
     "text": [
      "(373758, 32, 32, 3) (373758,)\n"
     ]
    }
   ],
   "source": [
    "#Data Augumentation\n",
    "# For each image Do Zoom(3), shift(2,-2), Rotate(10,-10 of Zoom(3))\n",
    "\n",
    "train_samples = normalized_data.shape[0]\n",
    "aug_data=[]\n",
    "aug_labels=[]\n",
    "for i in range(train_samples):\n",
    "    image = normalized_data[i]\n",
    "    label = normalized_labels[i]\n",
    "    \n",
    "    aug_data.append(image)\n",
    "    aug_data.append(zoomPixels(image,3))\n",
    "    aug_data.append(increaseBrightness(image,25))\n",
    "    aug_data.append(contrastImage(image))\n",
    "    #aug_data.append(shiftPosition(image,2))\n",
    "    #aug_data.append(shiftPosition(image,-2))\n",
    "    aug_data.append(rotateAngle(zoomPixels(image,2),12))\n",
    "    aug_data.append(rotateAngle(zoomPixels(image,2),-12))\n",
    "    \n",
    "    aug_labels.append(label)\n",
    "    aug_labels.append(label)\n",
    "    aug_labels.append(label)\n",
    "    aug_labels.append(label)\n",
    "    aug_labels.append(label)\n",
    "    aug_labels.append(label)\n",
    "\n",
    "aug_data =  np.array(aug_data)\n",
    "aug_labels = np.array(aug_labels)\n",
    "\n",
    "print(aug_data.shape , aug_labels.shape)"
   ]
  },
  {
   "cell_type": "code",
   "execution_count": 16,
   "metadata": {
    "collapsed": false,
    "deletable": true,
    "editable": true
   },
   "outputs": [
    {
     "data": {
      "text/plain": [
       "(array([  5400.,  14166.,  14370.,  10524.,  12636.,  11964.,   6480.,\n",
       "         10554.,  10668.,  11130.,  12510.,  10002.,  13764.,  13560.,\n",
       "          8280.,   6480.,   6480.,   9882.,   8958.,   4530.,   9000.,\n",
       "          8100.,   5940.,   5400.,   7200.,  11298.,   6480.,   6300.,\n",
       "          5760.,   7200.,   7020.,   8196.,   6300.,   7188.,   6480.,\n",
       "          8946.,   5940.,   5400.,  13572.,   8100.,   9000.,   6300.,\n",
       "          6300.]),\n",
       " array([  0.        ,   0.97674419,   1.95348837,   2.93023256,\n",
       "          3.90697674,   4.88372093,   5.86046512,   6.8372093 ,\n",
       "          7.81395349,   8.79069767,   9.76744186,  10.74418605,\n",
       "         11.72093023,  12.69767442,  13.6744186 ,  14.65116279,\n",
       "         15.62790698,  16.60465116,  17.58139535,  18.55813953,\n",
       "         19.53488372,  20.51162791,  21.48837209,  22.46511628,\n",
       "         23.44186047,  24.41860465,  25.39534884,  26.37209302,\n",
       "         27.34883721,  28.3255814 ,  29.30232558,  30.27906977,\n",
       "         31.25581395,  32.23255814,  33.20930233,  34.18604651,\n",
       "         35.1627907 ,  36.13953488,  37.11627907,  38.09302326,\n",
       "         39.06976744,  40.04651163,  41.02325581,  42.        ]),\n",
       " <a list of 43 Patch objects>)"
      ]
     },
     "execution_count": 16,
     "metadata": {},
     "output_type": "execute_result"
    },
    {
     "data": {
      "image/png": "[encoded data removed]",
      "text/plain": [
       "<matplotlib.figure.Figure at 0x7f40e5dd6278>"
      ]
     },
     "metadata": {},
     "output_type": "display_data"
    }
   ],
   "source": [
    "fig=plt.figure(figsize=(15,15))\n",
    "x = fig.add_subplot(111)\n",
    "x.set_title(\"Training Data after Data Augumentation\")\n",
    "x.hist(aug_labels,bins=43)"
   ]
  },
  {
   "cell_type": "code",
   "execution_count": 17,
   "metadata": {
    "collapsed": false,
    "deletable": true,
    "editable": true
   },
   "outputs": [],
   "source": [
    "def randomize(dataset, labels):\n",
    "  permutation = np.random.permutation(labels.shape[0])\n",
    "  shuffled_dataset = dataset[permutation,:,:]\n",
    "  shuffled_labels = labels[permutation]\n",
    "  return shuffled_dataset, shuffled_labels\n",
    "train_dataset, train_labels = randomize(aug_data, aug_labels)\n",
    "test_dataset, test_labels = randomize(X_test, y_test)\n",
    "valid_dataset, valid_labels = randomize(X_valid, y_valid)"
   ]
  },
  {
   "cell_type": "markdown",
   "metadata": {
    "deletable": true,
    "editable": true
   },
   "source": [
    "----\n",
    "\n",
    "## Step 2: Design and Test a Model Architecture\n",
    "\n",
    "Design and implement a deep learning model that learns to recognize traffic signs. Train and test your model on the [German Traffic Sign Dataset](http://benchmark.ini.rub.de/?section=gtsrb&subsection=dataset).\n",
    "\n",
    "The LeNet-5 implementation shown in the [classroom](https://classroom.udacity.com/nanodegrees/nd013/parts/fbf77062-5703-404e-b60c-95b78b2f3f9e/modules/6df7ae49-c61c-4bb2-a23e-6527e69209ec/lessons/601ae704-1035-4287-8b11-e2c2716217ad/concepts/d4aca031-508f-4e0b-b493-e7b706120f81) at the end of the CNN lesson is a solid starting point. You'll have to change the number of classes and possibly the preprocessing, but aside from that it's plug and play! \n",
    "\n",
    "With the LeNet-5 solution from the lecture, you should expect a validation set accuracy of about 0.89. To meet specifications, the validation set accuracy will need to be at least 0.93. It is possible to get an even higher accuracy, but 0.93 is the minimum for a successful project submission. \n",
    "\n",
    "There are various aspects to consider when thinking about this problem:\n",
    "\n",
    "- Neural network architecture (is the network over or underfitting?)\n",
    "- Play around preprocessing techniques (normalization, rgb to grayscale, etc)\n",
    "- Number of examples per label (some have more than others).\n",
    "- Generate fake data.\n",
    "\n",
    "Here is an example of a [published baseline model on this problem](http://yann.lecun.com/exdb/publis/pdf/sermanet-ijcnn-11.pdf). It's not required to be familiar with the approach used in the paper but, it's good practice to try to read papers like these."
   ]
  },
  {
   "cell_type": "markdown",
   "metadata": {
    "deletable": true,
    "editable": true
   },
   "source": [
    "### Pre-process the Data Set (normalization, grayscale, etc.)"
   ]
  },
  {
   "cell_type": "markdown",
   "metadata": {
    "deletable": true,
    "editable": true
   },
   "source": [
    "Minimally, the image data should be normalized so that the data has mean zero and equal variance. For image data, `(pixel - 128)/ 128` is a quick way to approximately normalize the data and can be used in this project. \n",
    "\n",
    "Other pre-processing steps are optional. You can try different techniques to see if it improves performance. \n",
    "\n",
    "Use the code cell (or multiple code cells, if necessary) to implement the first step of your project."
   ]
  },
  {
   "cell_type": "code",
   "execution_count": 18,
   "metadata": {
    "collapsed": false,
    "deletable": true,
    "editable": true
   },
   "outputs": [],
   "source": [
    "### Preprocess the data here. It is required to normalize the data. Other preprocessing steps could include \n",
    "### converting to grayscale, etc.\n",
    "### Feel free to use as many code cells as needed.\n",
    "def grayAndNormalize(dataset):\n",
    "    norm_data=[]\n",
    "    for i in range(dataset.shape[0]):\n",
    "        image = grayScale(dataset[i])\n",
    "        grayimage = (image.astype(float) - 128) / 128\n",
    "        reshapedImage = np.reshape(grayimage, (32, 32,1))\n",
    "        norm_data.append(reshapedImage)\n",
    "    return np.array(norm_data)\n",
    "\n"
   ]
  },
  {
   "cell_type": "code",
   "execution_count": 19,
   "metadata": {
    "collapsed": false,
    "deletable": true,
    "editable": true
   },
   "outputs": [
    {
     "name": "stdout",
     "output_type": "stream",
     "text": [
      "(373758, 32, 32, 1)\n"
     ]
    }
   ],
   "source": [
    "\n",
    "train_data = grayAndNormalize(train_dataset)\n",
    "test_data = grayAndNormalize(test_dataset)\n",
    "valid_data = grayAndNormalize(valid_dataset)\n",
    "print(train_data.shape)\n"
   ]
  },
  {
   "cell_type": "code",
   "execution_count": 20,
   "metadata": {
    "collapsed": true
   },
   "outputs": [],
   "source": [
    "# Memory Management\n",
    "del train_dataset\n",
    "del test_dataset\n",
    "del valid_dataset\n",
    "\n",
    "del aug_data\n",
    "del aug_labels\n",
    "del normalized_data\n",
    "del normalized_labels\n",
    "del train\n",
    "del X_train"
   ]
  },
  {
   "cell_type": "markdown",
   "metadata": {
    "deletable": true,
    "editable": true
   },
   "source": [
    "### Model Architecture"
   ]
  },
  {
   "cell_type": "code",
   "execution_count": 21,
   "metadata": {
    "collapsed": true,
    "deletable": true,
    "editable": true
   },
   "outputs": [],
   "source": [
    "### Define your architecture here.\n",
    "### Feel free to use as many code cells as needed.\n",
    "from tensorflow.contrib.layers import flatten\n",
    "import tensorflow as tf\n",
    "\n",
    "def LeNet(x, conv_keep_prob,ff_keep_prob):    \n",
    "    # Arguments used for tf.truncated_normal, randomly defines variables for the weights and biases for each layer\n",
    "    mu = 0\n",
    "    sigma = 0.1\n",
    "    \n",
    "    K = 24  # conv layer I depth\n",
    "    L = 48  # conv layer II depth\n",
    "    M = 64  # third convolutional layer\n",
    "    N = 200  # fully connected layer\n",
    "    O = 43  # Output classes\n",
    "    \n",
    "    weights_conv_l1 = tf.Variable(tf.truncated_normal([6,6,1,K], mean = mu, stddev = sigma))\n",
    "    bias_conv_l1 = tf.Variable(tf.constant(0.1, tf.float32, [K]))\n",
    "    \n",
    "    weights_conv_l2 = tf.Variable(tf.truncated_normal([5,5,K,L], mean = mu, stddev = sigma))\n",
    "    bias_conv_l2 = tf.Variable(tf.constant(0.1, tf.float32, [L]))\n",
    "\n",
    "    weights_conv_l3 = tf.Variable(tf.truncated_normal([3,3,L,M], mean = mu, stddev = sigma))\n",
    "    bias_conv_l3 = tf.Variable(tf.constant(0.1, tf.float32, [M]))\n",
    "    \n",
    "    weights_ff_l3 = tf.Variable(tf.truncated_normal([4*4*M,N], mean = mu, stddev = sigma))\n",
    "    bias_ff_l3 = tf.Variable(tf.constant(0.1, tf.float32, [N]))\n",
    "    \n",
    "    weights_ff_l4 = tf.Variable(tf.truncated_normal([N,O], mean = mu, stddev = sigma))\n",
    "    bias_ff_l4 = tf.Variable(tf.constant(0.1, tf.float32, [O]))\n",
    "    \n",
    "    # Layer 1: Convolutional. Input = 32x32x3. Output = 32x32x24. \n",
    "    conv_l1 = tf.nn.bias_add(tf.nn.conv2d(x,weights_conv_l1,[1,1,1,1],'SAME'),bias_conv_l1)\n",
    "    # Activation.\n",
    "    conv_l1 = tf.nn.relu(conv_l1)\n",
    "    # Pooling. Input = 32x32x24. Output = 16x16x24.\n",
    "    conv_l1 = tf.nn.max_pool(conv_l1,ksize=[1,2,2,1],strides=[1,2,2,1],padding='SAME')\n",
    "    conv_l1 = tf.nn.dropout(conv_l1,conv_keep_prob)\n",
    "    \n",
    "    \n",
    "    # Layer 2: Convolutional. Input = 16x16x24. Output = 16x16x48.\n",
    "    conv_l2 = tf.nn.bias_add(tf.nn.conv2d(conv_l1,weights_conv_l2,[1,1,1,1],'SAME'),bias_conv_l2)\n",
    "    conv_l2 = tf.nn.relu(conv_l2)\n",
    "    # Pooling. Input = 16x16x48. Output = 8x8x48.\n",
    "    conv_l2 = tf.nn.max_pool(conv_l2,ksize=[1,2,2,1],strides=[1,2,2,1],padding='SAME')\n",
    "    conv_l2 = tf.nn.dropout(conv_l2,conv_keep_prob)\n",
    "    \n",
    "    # Layer 3: Convolutional.Input = 8x8x48. Output = 8x8x64.\n",
    "    conv_l3 = tf.nn.bias_add(tf.nn.conv2d(conv_l2,weights_conv_l3,[1,1,1,1],'SAME'),bias_conv_l3)\n",
    "    conv_l3 = tf.nn.relu(conv_l3)\n",
    "    # Pooling. Input = 8x8x64. Output = 4x4x64.\n",
    "    conv_l3 = tf.nn.max_pool(conv_l3,ksize=[1,2,2,1],strides=[1,2,2,1],padding='SAME')\n",
    "    conv_l3 = tf.nn.dropout(conv_l3,conv_keep_prob)   \n",
    "   \n",
    "    # Flatten. Input = 4x4x64. Output = 1024.\n",
    "    x_flatten = flatten(conv_l3)\n",
    "    \n",
    "    # Layer 4: Fully Connected. Input = 1024. Output = 200.\n",
    "    l4 = tf.add(tf.matmul(x_flatten,weights_ff_l3),bias_ff_l3)\n",
    "    #Activation.\n",
    "    l4 = tf.nn.relu(l4)\n",
    "    l4 = tf.nn.dropout(l4,ff_keep_prob)\n",
    "\n",
    "    # Layer 5: Fully Connected. Input = 200. Output = 43.\n",
    "    logits = tf.add(tf.matmul(l4,weights_ff_l4),bias_ff_l4)    \n",
    "    return logits"
   ]
  },
  {
   "cell_type": "code",
   "execution_count": 22,
   "metadata": {
    "collapsed": false,
    "deletable": true,
    "editable": true
   },
   "outputs": [],
   "source": [
    "x = tf.placeholder(tf.float32, (None, 32, 32, 1))\n",
    "y = tf.placeholder(tf.int32, (None))\n",
    "rate = tf.placeholder(tf.float32)\n",
    "conv_keep_prob = tf.placeholder(tf.float32)\n",
    "ff_keep_prob = tf.placeholder(tf.float32)\n",
    "one_hot_y = tf.one_hot(y, 43)"
   ]
  },
  {
   "cell_type": "code",
   "execution_count": 23,
   "metadata": {
    "collapsed": false,
    "deletable": true,
    "editable": true
   },
   "outputs": [],
   "source": [
    "#rate = 0.001\n",
    "\n",
    "logits = LeNet(x,conv_keep_prob,ff_keep_prob)\n",
    "softmax_predictions = tf.nn.softmax(logits)\n",
    "cross_entropy = tf.nn.softmax_cross_entropy_with_logits(labels=one_hot_y, logits=logits)\n",
    "loss_operation = tf.reduce_mean(cross_entropy)\n",
    "optimizer = tf.train.AdamOptimizer(learning_rate = rate)\n",
    "training_operation = optimizer.minimize(loss_operation)"
   ]
  },
  {
   "cell_type": "code",
   "execution_count": 24,
   "metadata": {
    "collapsed": true,
    "deletable": true,
    "editable": true
   },
   "outputs": [],
   "source": [
    "correct_prediction = tf.equal(tf.argmax(logits, 1), tf.argmax(one_hot_y, 1))\n",
    "accuracy_operation = tf.reduce_mean(tf.cast(correct_prediction, tf.float32))\n",
    "saver = tf.train.Saver()\n",
    "\n",
    "def evaluate(X_data, y_data):\n",
    "    num_examples = len(X_data)\n",
    "    total_accuracy = 0\n",
    "    sess = tf.get_default_session()\n",
    "    for offset in range(0, num_examples, BATCH_SIZE):\n",
    "        end = offset + BATCH_SIZE if offset + BATCH_SIZE < num_examples else num_examples\n",
    "        batch_x, batch_y = X_data[offset:end], y_data[offset:end]\n",
    "        accuracy = sess.run(accuracy_operation, feed_dict={x: batch_x, y: batch_y,conv_keep_prob: 1.0,ff_keep_prob: 1.0})\n",
    "        total_accuracy += (accuracy * len(batch_x))\n",
    "    return total_accuracy * 100 / num_examples"
   ]
  },
  {
   "cell_type": "markdown",
   "metadata": {
    "deletable": true,
    "editable": true
   },
   "source": [
    "### Train, Validate and Test the Model"
   ]
  },
  {
   "cell_type": "markdown",
   "metadata": {
    "deletable": true,
    "editable": true
   },
   "source": [
    "A validation set can be used to assess how well the model is performing. A low accuracy on the training and validation\n",
    "sets imply underfitting. A high accuracy on the training set but low accuracy on the validation set implies overfitting."
   ]
  },
  {
   "cell_type": "code",
   "execution_count": 25,
   "metadata": {
    "collapsed": false,
    "deletable": true,
    "editable": true
   },
   "outputs": [
    {
     "name": "stdout",
     "output_type": "stream",
     "text": [
      "Training...\n",
      "\n",
      "EPOCH 1 ...\n",
      "Learning Rate 0.0037595317611485153 ...\n",
      "Validation Accuracy = 90.907\n",
      "\n",
      "EPOCH 2 ...\n",
      "Learning Rate 0.002832823175620878 ...\n",
      "Validation Accuracy = 94.082\n",
      "\n",
      "EPOCH 3 ...\n",
      "Learning Rate 0.0021407863619324636 ...\n",
      "Validation Accuracy = 95.850\n",
      "\n",
      "EPOCH 4 ...\n",
      "Learning Rate 0.0016239950437347 ...\n",
      "Validation Accuracy = 95.918\n",
      "\n",
      "EPOCH 5 ...\n",
      "Learning Rate 0.0012380715476404142 ...\n",
      "Validation Accuracy = 95.714\n",
      "\n",
      "EPOCH 6 ...\n",
      "Learning Rate 0.0009498760234643648 ...\n",
      "Validation Accuracy = 96.576\n",
      "\n",
      "EPOCH 7 ...\n",
      "Learning Rate 0.0007346606738013423 ...\n",
      "Validation Accuracy = 96.553\n",
      "\n",
      "EPOCH 8 ...\n",
      "Learning Rate 0.0005739446222144927 ...\n",
      "Validation Accuracy = 96.848\n",
      "\n",
      "EPOCH 9 ...\n",
      "Learning Rate 0.0004539269316635626 ...\n",
      "Validation Accuracy = 96.508\n",
      "\n",
      "EPOCH 10 ...\n",
      "Learning Rate 0.000364301496599941 ...\n",
      "Validation Accuracy = 96.327\n",
      "\n",
      "EPOCH 11 ...\n",
      "Learning Rate 0.0002973720416715052 ...\n",
      "Validation Accuracy = 96.485\n",
      "\n",
      "EPOCH 12 ...\n",
      "Learning Rate 0.0002473912306011024 ...\n",
      "Validation Accuracy = 96.689\n",
      "\n",
      "EPOCH 13 ...\n",
      "Learning Rate 0.0002100671334912967 ...\n",
      "Validation Accuracy = 96.667\n",
      "\n",
      "EPOCH 14 ...\n",
      "Learning Rate 0.00018219467213607967 ...\n",
      "Validation Accuracy = 97.120\n",
      "\n",
      "EPOCH 15 ...\n",
      "Learning Rate 0.00016138039497587032 ...\n",
      "Validation Accuracy = 97.347\n",
      "\n",
      "EPOCH 16 ...\n",
      "Learning Rate 0.0001458369476935971 ...\n",
      "Validation Accuracy = 97.143\n",
      "\n",
      "EPOCH 17 ...\n",
      "Learning Rate 0.00013422959032263486 ...\n",
      "Validation Accuracy = 97.143\n",
      "\n",
      "EPOCH 18 ...\n",
      "Learning Rate 0.00012556158105220182 ...\n",
      "Validation Accuracy = 97.029\n",
      "\n",
      "EPOCH 19 ...\n",
      "Learning Rate 0.00011908858445951705 ...\n",
      "Validation Accuracy = 97.324\n",
      "\n",
      "EPOCH 20 ...\n",
      "Learning Rate 0.00011425475427063733 ...\n",
      "Validation Accuracy = 97.211\n",
      "\n",
      "Model saved\n"
     ]
    }
   ],
   "source": [
    "### Train your model here.\n",
    "### Calculate and report the accuracy on the training and validation set.\n",
    "### Once a final model architecture is selected, \n",
    "### the accuracy on the test set should be calculated and reported as well.\n",
    "\n",
    "from sklearn.utils import shuffle\n",
    "import math\n",
    "\n",
    "EPOCHS = 20\n",
    "BATCH_SIZE = 128\n",
    "\n",
    "with tf.Session() as sess:\n",
    "    sess.run(tf.global_variables_initializer())\n",
    "    num_examples = len(train_data)\n",
    "    \n",
    "    print(\"Training...\")\n",
    "    print()\n",
    "    \n",
    "    # Decaying learning Rate \n",
    "    iteration = 0         \n",
    "    max_learning_rate = 0.005\n",
    "    min_learning_rate = 0.0001\n",
    "    decay_speed = 10000\n",
    "    \n",
    "    for i in range(EPOCHS):\n",
    "        train_data, train_labels = randomize(train_data, train_labels)\n",
    "        for offset in range(0, num_examples, BATCH_SIZE):\n",
    "            \n",
    "            end = offset + BATCH_SIZE if offset + BATCH_SIZE < num_examples else num_examples\n",
    "            batch_x, batch_y = train_data[offset:end], train_labels[offset:end]\n",
    "            learning_rate = min_learning_rate + (max_learning_rate - min_learning_rate) * math.exp(-iteration/decay_speed)\n",
    "            iteration = iteration + 1\n",
    "            sess.run(training_operation, feed_dict={x: batch_x, y: batch_y,conv_keep_prob: 1.0,ff_keep_prob: 0.75, rate: learning_rate })\n",
    "            \n",
    "        validation_accuracy = evaluate(valid_data, valid_labels)\n",
    "        print(\"EPOCH {} ...\".format(i+1))\n",
    "        print(\"Learning Rate {} ...\".format(learning_rate))\n",
    "        print(\"Validation Accuracy = {:.3f}\".format(validation_accuracy))\n",
    "        print()\n",
    "        \n",
    "    saver.save(sess, './TrafficGrayscale')\n",
    "    print(\"Model saved\")"
   ]
  },
  {
   "cell_type": "code",
   "execution_count": 26,
   "metadata": {
    "collapsed": false,
    "deletable": true,
    "editable": true
   },
   "outputs": [
    {
     "name": "stdout",
     "output_type": "stream",
     "text": [
      "Test Accuracy = 95.519\n"
     ]
    }
   ],
   "source": [
    "with tf.Session() as sess:\n",
    "    saver.restore(sess, tf.train.latest_checkpoint('.'))\n",
    "\n",
    "    test_accuracy = evaluate(test_data, test_labels)\n",
    "    print(\"Test Accuracy = {:.3f}\".format(test_accuracy))"
   ]
  },
  {
   "cell_type": "markdown",
   "metadata": {
    "deletable": true,
    "editable": true
   },
   "source": [
    "---\n",
    "\n",
    "## Step 3: Test a Model on New Images\n",
    "\n",
    "To give yourself more insight into how your model is working, download at least five pictures of German traffic signs from the web and use your model to predict the traffic sign type.\n",
    "\n",
    "You may find `signnames.csv` useful as it contains mappings from the class id (integer) to the actual sign name."
   ]
  },
  {
   "cell_type": "markdown",
   "metadata": {
    "deletable": true,
    "editable": true
   },
   "source": [
    "### Load and Output the Images"
   ]
  },
  {
   "cell_type": "code",
   "execution_count": 27,
   "metadata": {
    "collapsed": false,
    "deletable": true,
    "editable": true
   },
   "outputs": [],
   "source": [
    "### Load the images and plot them here.\n",
    "### Feel free to use as many code cells as needed.\n",
    "import os\n",
    "import matplotlib.image as img\n",
    "import matplotlib.pyplot as plt\n",
    "import numpy as np\n",
    "%matplotlib inline\n",
    "downloadedImagesDir = os.path.join(\".\",\"downloadedImages\")\n",
    "downloadedImagesList = os.listdir(downloadedImagesDir)\n",
    "imageDataset = []\n",
    "for filename in downloadedImagesList:\n",
    "    imagePath = os.path.join(os.path.join(downloadedImagesDir,filename))\n",
    "    image = img.imread(imagePath)\n",
    "    imageDataset.append(image)\n",
    "\n",
    "downloadImages = np.array(imageDataset)"
   ]
  },
  {
   "cell_type": "code",
   "execution_count": 28,
   "metadata": {
    "collapsed": false,
    "deletable": true,
    "editable": true
   },
   "outputs": [],
   "source": [
    "# Resize Images to 32 * 32\n",
    "import cv2\n",
    "\n",
    "resizedImages = []\n",
    "for i in range(downloadImages.shape[0]):\n",
    "    resizedImages.append(cv2.resize(downloadImages[i],(32,32),interpolation = cv2.INTER_AREA))\n",
    "\n",
    "Images = np.array(resizedImages)\n",
    "Labels = np.array([4,14,5,2,1,3])"
   ]
  },
  {
   "cell_type": "code",
   "execution_count": 29,
   "metadata": {
    "collapsed": false,
    "deletable": true,
    "editable": true
   },
   "outputs": [
    {
     "data": {
      "text/plain": [
       "<matplotlib.image.AxesImage at 0x7f40df2526d8>"
      ]
     },
     "execution_count": 29,
     "metadata": {},
     "output_type": "execute_result"
    },
    {
     "data": {
      "image/png": "[encoded data removed]",
      "text/plain": [
       "<matplotlib.figure.Figure at 0x7f40a85b88d0>"
      ]
     },
     "metadata": {},
     "output_type": "display_data"
    }
   ],
   "source": [
    "# Display Images\n",
    "\n",
    "fig = plt.figure(figsize=(15,15))\n",
    "x1 = fig.add_subplot(231)\n",
    "x1.set_title(\"Traffic Sign: \" + str(Labels[0]))\n",
    "x1.imshow(Images[0])\n",
    "x2 = fig.add_subplot(232)\n",
    "x2.set_title(\"Traffic Sign: \" + str(Labels[1]))\n",
    "x2.imshow(Images[1])\n",
    "x3 = fig.add_subplot(233)\n",
    "x3.set_title(\"Traffic Sign: \" + str(Labels[2]))\n",
    "x3.imshow(Images[2])\n",
    "x4 = fig.add_subplot(234)\n",
    "x4.set_title(\"Traffic Sign: \" + str(Labels[3]))\n",
    "x4.imshow(Images[3],cmap='Greys_r')\n",
    "x5 = fig.add_subplot(235)\n",
    "x5.set_title(\"Traffic Sign: \" + str(Labels[4]))\n",
    "x5.imshow(Images[4])\n",
    "x6 = fig.add_subplot(236)\n",
    "x6.set_title(\"Traffic Sign: \" + str(Labels[5]))\n",
    "x6.imshow(Images[5])"
   ]
  },
  {
   "cell_type": "markdown",
   "metadata": {
    "deletable": true,
    "editable": true
   },
   "source": [
    "### Predict the Sign Type for Each Image"
   ]
  },
  {
   "cell_type": "code",
   "execution_count": 30,
   "metadata": {
    "collapsed": false,
    "deletable": true,
    "editable": true
   },
   "outputs": [],
   "source": [
    "### Run the predictions here and use the model to output the prediction for each image.\n",
    "### Make sure to pre-process the images with the same pre-processing pipeline used earlier.\n",
    "###Normalize the Images.\n",
    "Images = grayAndNormalize(Images)"
   ]
  },
  {
   "cell_type": "markdown",
   "metadata": {
    "deletable": true,
    "editable": true
   },
   "source": [
    "### Analyze Performance"
   ]
  },
  {
   "cell_type": "code",
   "execution_count": 31,
   "metadata": {
    "collapsed": false,
    "deletable": true,
    "editable": true
   },
   "outputs": [
    {
     "name": "stdout",
     "output_type": "stream",
     "text": [
      "Test Accuracy = 50.000\n"
     ]
    }
   ],
   "source": [
    "### Calculate the accuracy for these 5 new images. \n",
    "### For example, if the model predicted 1 out of 5 signs correctly, it's 20% accurate on these new images.\n",
    "\n",
    "with tf.Session() as sess:\n",
    "    saver.restore(sess, tf.train.latest_checkpoint('.'))\n",
    "    test_accuracy = evaluate(Images, Labels)\n",
    "    print(\"Test Accuracy = {:.3f}\".format(test_accuracy))"
   ]
  },
  {
   "cell_type": "markdown",
   "metadata": {
    "deletable": true,
    "editable": true
   },
   "source": [
    "### Output Top 5 Softmax Probabilities For Each Image Found on the Web"
   ]
  },
  {
   "cell_type": "markdown",
   "metadata": {
    "deletable": true,
    "editable": true
   },
   "source": [
    "For each of the new images, print out the model's softmax probabilities to show the **certainty** of the model's predictions (limit the output to the top 5 probabilities for each image). [`tf.nn.top_k`](https://www.tensorflow.org/versions/r0.12/api_docs/python/nn.html#top_k) could prove helpful here. \n",
    "\n",
    "The example below demonstrates how tf.nn.top_k can be used to find the top k predictions for each image.\n",
    "\n",
    "`tf.nn.top_k` will return the values and indices (class ids) of the top k predictions. So if k=3, for each sign, it'll return the 3 largest probabilities (out of a possible 43) and the correspoding class ids.\n",
    "\n",
    "Take this numpy array as an example. The values in the array represent predictions. The array contains softmax probabilities for five candidate images with six possible classes. `tk.nn.top_k` is used to choose the three classes with the highest probability:\n",
    "\n",
    "```\n",
    "# (5, 6) array\n",
    "a = np.array([[ 0.24879643,  0.07032244,  0.12641572,  0.34763842,  0.07893497,\n",
    "         0.12789202],\n",
    "       [ 0.28086119,  0.27569815,  0.08594638,  0.0178669 ,  0.18063401,\n",
    "         0.15899337],\n",
    "       [ 0.26076848,  0.23664738,  0.08020603,  0.07001922,  0.1134371 ,\n",
    "         0.23892179],\n",
    "       [ 0.11943333,  0.29198961,  0.02605103,  0.26234032,  0.1351348 ,\n",
    "         0.16505091],\n",
    "       [ 0.09561176,  0.34396535,  0.0643941 ,  0.16240774,  0.24206137,\n",
    "         0.09155967]])\n",
    "```\n",
    "\n",
    "Running it through `sess.run(tf.nn.top_k(tf.constant(a), k=3))` produces:\n",
    "\n",
    "```\n",
    "TopKV2(values=array([[ 0.34763842,  0.24879643,  0.12789202],\n",
    "       [ 0.28086119,  0.27569815,  0.18063401],\n",
    "       [ 0.26076848,  0.23892179,  0.23664738],\n",
    "       [ 0.29198961,  0.26234032,  0.16505091],\n",
    "       [ 0.34396535,  0.24206137,  0.16240774]]), indices=array([[3, 0, 5],\n",
    "       [0, 1, 4],\n",
    "       [0, 5, 1],\n",
    "       [1, 3, 5],\n",
    "       [1, 4, 3]], dtype=int32))\n",
    "```\n",
    "\n",
    "Looking just at the first row we get `[ 0.34763842,  0.24879643,  0.12789202]`, you can confirm these are the 3 largest probabilities in `a`. You'll also notice `[3, 0, 5]` are the corresponding indices."
   ]
  },
  {
   "cell_type": "code",
   "execution_count": 32,
   "metadata": {
    "collapsed": false,
    "deletable": true,
    "editable": true
   },
   "outputs": [
    {
     "name": "stdout",
     "output_type": "stream",
     "text": [
      "TopKV2(values=array([[  8.17192316e-01,   1.50690317e-01,   2.91229580e-02,\n",
      "          2.00580200e-03,   6.00492000e-04],\n",
      "       [  9.93674159e-01,   6.32587587e-03,   1.34663436e-09,\n",
      "          6.22071893e-13,   7.66904173e-14],\n",
      "       [  9.99270737e-01,   7.08440668e-04,   1.21765916e-05,\n",
      "          8.71361044e-06,   8.02354627e-09],\n",
      "       [  8.45587730e-01,   7.11976290e-02,   3.61545719e-02,\n",
      "          2.44894773e-02,   1.83676556e-02],\n",
      "       [  8.55278909e-01,   1.01432569e-01,   1.95663292e-02,\n",
      "          1.09248580e-02,   1.05376719e-02],\n",
      "       [  9.90960896e-01,   9.03857034e-03,   5.29094791e-07,\n",
      "          1.70564192e-12,   1.11361804e-17]], dtype=float32), indices=array([[24, 25,  7, 26, 12],\n",
      "       [13, 14, 12,  2, 11],\n",
      "       [ 5,  7,  3,  2,  1],\n",
      "       [ 7,  1, 12,  4, 39],\n",
      "       [ 1,  2,  5,  4,  7],\n",
      "       [ 3,  5,  2,  1,  8]], dtype=int32))\n"
     ]
    }
   ],
   "source": [
    "### Print out the top five softmax probabilities for the predictions on the German traffic sign images found on the web. \n",
    "### Feel free to use as many code cells as needed.\n",
    "with tf.Session() as sess:\n",
    "    saver.restore(sess, tf.train.latest_checkpoint('.'))\n",
    "    probabilities = sess.run(softmax_predictions, feed_dict={x: Images, y: Labels,conv_keep_prob: 1.0,ff_keep_prob: 1.0})\n",
    "    print(sess.run(tf.nn.top_k(tf.constant(np.array(probabilities)), k=5)))"
   ]
  },
  {
   "cell_type": "markdown",
   "metadata": {
    "deletable": true,
    "editable": true
   },
   "source": [
    "### Project Writeup\n",
    "\n",
    "Once you have completed the code implementation, document your results in a project writeup using this [template](https://github.com/udacity/CarND-Traffic-Sign-Classifier-Project/blob/master/writeup_template.md) as a guide. The writeup can be in a markdown or pdf file. "
   ]
  },
  {
   "cell_type": "markdown",
   "metadata": {
    "deletable": true,
    "editable": true
   },
   "source": [
    "> **Note**: Once you have completed all of the code implementations and successfully answered each question above, you may finalize your work by exporting the iPython Notebook as an HTML document. You can do this by using the menu above and navigating to  \\n\",\n",
    "    \"**File -> Download as -> HTML (.html)**. Include the finished document along with this notebook as your submission."
   ]
  },
  {
   "cell_type": "markdown",
   "metadata": {
    "deletable": true,
    "editable": true
   },
   "source": [
    "---\n",
    "\n",
    "## Step 4 (Optional): Visualize the Neural Network's State with Test Images\n",
    "\n",
    " This Section is not required to complete but acts as an additional excersise for understaning the output of a neural network's weights. While neural networks can be a great learning device they are often referred to as a black box. We can understand what the weights of a neural network look like better by plotting their feature maps. After successfully training your neural network you can see what it's feature maps look like by plotting the output of the network's weight layers in response to a test stimuli image. From these plotted feature maps, it's possible to see what characteristics of an image the network finds interesting. For a sign, maybe the inner network feature maps react with high activation to the sign's boundary outline or to the contrast in the sign's painted symbol.\n",
    "\n",
    " Provided for you below is the function code that allows you to get the visualization output of any tensorflow weight layer you want. The inputs to the function should be a stimuli image, one used during training or a new one you provided, and then the tensorflow variable name that represents the layer's state during the training process, for instance if you wanted to see what the [LeNet lab's](https://classroom.udacity.com/nanodegrees/nd013/parts/fbf77062-5703-404e-b60c-95b78b2f3f9e/modules/6df7ae49-c61c-4bb2-a23e-6527e69209ec/lessons/601ae704-1035-4287-8b11-e2c2716217ad/concepts/d4aca031-508f-4e0b-b493-e7b706120f81) feature maps looked like for it's second convolutional layer you could enter conv2 as the tf_activation variable.\n",
    "\n",
    "For an example of what feature map outputs look like, check out NVIDIA's results in their paper [End-to-End Deep Learning for Self-Driving Cars](https://devblogs.nvidia.com/parallelforall/deep-learning-self-driving-cars/) in the section Visualization of internal CNN State. NVIDIA was able to show that their network's inner weights had high activations to road boundary lines by comparing feature maps from an image with a clear path to one without. Try experimenting with a similar test to show that your trained network's weights are looking for interesting features, whether it's looking at differences in feature maps from images with or without a sign, or even what feature maps look like in a trained network vs a completely untrained one on the same sign image.\n",
    "\n",
    "<figure>\n",
    " <img src=\"visualize_cnn.png\" width=\"380\" alt=\"Combined Image\" />\n",
    " <figcaption>\n",
    " <p></p> \n",
    " <p style=\"text-align: center;\"> Your output should look something like this (above)</p> \n",
    " </figcaption>\n",
    "</figure>\n",
    " <p></p> \n"
   ]
  },
  {
   "cell_type": "code",
   "execution_count": 33,
   "metadata": {
    "collapsed": true,
    "deletable": true,
    "editable": true
   },
   "outputs": [],
   "source": [
    "### Visualize your network's feature maps here.\n",
    "### Feel free to use as many code cells as needed.\n",
    "\n",
    "# image_input: the test image being fed into the network to produce the feature maps\n",
    "# tf_activation: should be a tf variable name used during your training procedure that represents the calculated state of a specific weight layer\n",
    "# activation_min/max: can be used to view the activation contrast in more detail, by default matplot sets min and max to the actual min and max values of the output\n",
    "# plt_num: used to plot out multiple different weight feature map sets on the same block, just extend the plt number for each new feature map entry\n",
    "\n",
    "def outputFeatureMap(image_input, tf_activation, activation_min=-1, activation_max=-1 ,plt_num=1):\n",
    "    # Here make sure to preprocess your image_input in a way your network expects\n",
    "    # with size, normalization, ect if needed\n",
    "    # image_input =\n",
    "    # Note: x should be the same name as your network's tensorflow data placeholder variable\n",
    "    # If you get an error tf_activation is not defined it may be having trouble accessing the variable from inside a function\n",
    "    activation = tf_activation.eval(session=sess,feed_dict={x : image_input})\n",
    "    featuremaps = activation.shape[3]\n",
    "    plt.figure(plt_num, figsize=(15,15))\n",
    "    for featuremap in range(featuremaps):\n",
    "        plt.subplot(6,8, featuremap+1) # sets the number of feature maps to show on each row and column\n",
    "        plt.title('FeatureMap ' + str(featuremap)) # displays the feature map number\n",
    "        if activation_min != -1 & activation_max != -1:\n",
    "            plt.imshow(activation[0,:,:, featuremap], interpolation=\"nearest\", vmin =activation_min, vmax=activation_max, cmap=\"gray\")\n",
    "        elif activation_max != -1:\n",
    "            plt.imshow(activation[0,:,:, featuremap], interpolation=\"nearest\", vmax=activation_max, cmap=\"gray\")\n",
    "        elif activation_min !=-1:\n",
    "            plt.imshow(activation[0,:,:, featuremap], interpolation=\"nearest\", vmin=activation_min, cmap=\"gray\")\n",
    "        else:\n",
    "            plt.imshow(activation[0,:,:, featuremap], interpolation=\"nearest\", cmap=\"gray\")"
   ]
  }
 ],
 "metadata": {
  "anaconda-cloud": {},
  "kernelspec": {
   "display_name": "Python 3",
   "language": "python",
   "name": "python3"
  },
  "language_info": {
   "codemirror_mode": {
    "name": "ipython",
    "version": 3
   },
   "file_extension": ".py",
   "mimetype": "text/x-python",
   "name": "python",
   "nbconvert_exporter": "python",
   "pygments_lexer": "ipython3",
   "version": "3.5.2"
  },
  "widgets": {
   "state": {},
   "version": "1.1.2"
  }
 },
 "nbformat": 4,
 "nbformat_minor": 1
}
